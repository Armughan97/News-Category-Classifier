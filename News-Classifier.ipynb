{
 "cells": [
  {
   "cell_type": "markdown",
   "id": "5a1699bb-b265-420d-8f2d-2dbce709be77",
   "metadata": {
    "jp-MarkdownHeadingCollapsed": true
   },
   "source": [
    "# Initialization"
   ]
  },
  {
   "cell_type": "code",
   "execution_count": null,
   "id": "9f9045ae-144b-4d0a-a75a-76cab9af6d5f",
   "metadata": {},
   "outputs": [],
   "source": [
    "import nltk\n",
    "print(nltk.__version__)"
   ]
  },
  {
   "cell_type": "code",
   "execution_count": null,
   "id": "906eea48-01b2-4969-8b4a-44310d04788b",
   "metadata": {},
   "outputs": [],
   "source": [
    "nltk.download('punkt')\n",
    "nltk.download('stopwords')\n",
    "nltk.download('wordnet')"
   ]
  },
  {
   "cell_type": "markdown",
   "id": "8000ab9d-4ced-40c3-8de5-23827762ea5c",
   "metadata": {},
   "source": [
    "# Part 1: Web Scraping"
   ]
  },
  {
   "cell_type": "code",
   "execution_count": 1,
   "id": "2ef89a1f-0563-4c68-aec6-ea71603fb589",
   "metadata": {},
   "outputs": [],
   "source": [
    "import requests\n",
    "from bs4 import BeautifulSoup\n",
    "import csv\n",
    "import time"
   ]
  },
  {
   "cell_type": "code",
   "execution_count": 2,
   "id": "b23de5c2-2569-4884-83f3-4288ea8836f0",
   "metadata": {},
   "outputs": [],
   "source": [
    "news_sources = [\n",
    "    {\n",
    "        \"publisher\": \"BBC\",\n",
    "        \"base_url\": \"https://www.bbc.com\",\n",
    "        \"sections\": {\n",
    "            \"World\": \"/news/world\",\n",
    "            \"Arts\": \"/arts\",\n",
    "        }\n",
    "    },\n",
    "    {\n",
    "        \"publisher\": \"CNN\",\n",
    "        \"base_url\": \"https://edition.cnn.com\",\n",
    "        \"sections\": {\n",
    "            \"Politics\": \"/politics\",\n",
    "            \"Sports\": \"/sport\",\n",
    "        }\n",
    "    },\n",
    "    {\n",
    "        \"publisher\": \"CNBC\",\n",
    "        \"base_url\": \"https://www.cnbc.com\",\n",
    "        \"sections\": {\n",
    "            \"Health and Science\": \"/health-and-science\",\n",
    "            \"AI\": \"/ai-artificial-intelligence\",\n",
    "        }\n",
    "    }\n",
    "]\n",
    "\n",
    "news_articles = \"articles.csv\""
   ]
  },
  {
   "cell_type": "code",
   "execution_count": 16,
   "id": "4249ab5f-8a05-4e50-a434-916a95322589",
   "metadata": {},
   "outputs": [],
   "source": [
    "# helper to write header to csv\n",
    "def init_csv():\n",
    "    with open(news_articles, mode=\"w\", newline=\"\", encoding=\"utf-8\") as f:\n",
    "        writer = csv.DictWriter(f, fieldnames=[\n",
    "            \"published_date\", \"headline\", \"publisher\", \"category\", \"article_content\", \"url\"\n",
    "        ])\n",
    "        writer.writeheader()"
   ]
  },
  {
   "cell_type": "code",
   "execution_count": 9,
   "id": "21fa1a31-bcdc-4381-87c1-b114528f24db",
   "metadata": {},
   "outputs": [],
   "source": [
    "# Fetch list of article URLs from a section page\n",
    "def get_article_links(source, category, page=1):\n",
    "    \"\"\"\n",
    "    Returns a list of absolute article URLs for a given section and page number.\n",
    "    \"\"\"\n",
    "    url = f\"{source['base_url']}{source['sections'][category]}\"\n",
    "    if page > 1:\n",
    "        url += f\"/{page}\"\n",
    "\n",
    "    resp = requests.get(url)\n",
    "    resp.raise_for_status()\n",
    "    soup = BeautifulSoup(resp.text, \"html.parser\")\n",
    "\n",
    "    links = []\n",
    "    for a in soup.select(\".gs-c-promo-heading a[href]\"):\n",
    "        href = a.get(\"href\")\n",
    "        if href.startswith(\"/news\"):\n",
    "            full = source['base_url'] + href\n",
    "            links.append(full)\n",
    "\n",
    "    return list(set(links))"
   ]
  },
  {
   "cell_type": "code",
   "execution_count": 10,
   "id": "8f0ab241-14c3-428c-a291-0905c34985a3",
   "metadata": {},
   "outputs": [],
   "source": [
    "# Parse individual article for metadata and content\n",
    "def parse_article(url, publisher, category):\n",
    "    resp = requests.get(url)\n",
    "    resp.raise_for_status()\n",
    "    soup = BeautifulSoup(resp.text, \"html.parser\")\n",
    "\n",
    "    # Published date (BBC example: time tag)\n",
    "    time_tag = soup.find(\"time\")\n",
    "    published_date = time_tag.get(\"datetime\") if time_tag else \"\"\n",
    "\n",
    "    # Headline\n",
    "    headline_tag = soup.find(\"h1\")\n",
    "    headline = headline_tag.get_text(strip=True) if headline_tag else \"\"\n",
    "\n",
    "    # Article content: collect all <p> text under article body\n",
    "    paragraphs = []\n",
    "    for p in soup.select(\"[property=articleBody] p, .ssrcss-uf6wea-RichTextComponentWrapper p\"):\n",
    "        paragraphs.append(p.get_text(strip=True))\n",
    "    article_content = \"\\n\".join(paragraphs)\n",
    "\n",
    "    return {\n",
    "        \"published_date\": published_date,\n",
    "        \"headline\": headline,\n",
    "        \"publisher\": publisher,\n",
    "        \"category\": category,\n",
    "        \"article_content\": article_content,\n",
    "        \"url\": url\n",
    "    }"
   ]
  },
  {
   "cell_type": "code",
   "execution_count": 22,
   "id": "b020d340-d91a-4002-ac82-65c9680c25f9",
   "metadata": {},
   "outputs": [],
   "source": [
    "import re\n",
    "import pandas as pd"
   ]
  },
  {
   "cell_type": "code",
   "execution_count": 33,
   "id": "f9df9f58-e01b-4ebe-aef9-f3ba8c01525f",
   "metadata": {},
   "outputs": [
    {
     "name": "stdout",
     "output_type": "stream",
     "text": [
      "Response saved to response.txt\n"
     ]
    }
   ],
   "source": [
    "url = \"https://www.bbc.com/business\"\n",
    "response = requests.get(url)\n",
    "soup = BeautifulSoup(response.content, 'html.parser')\n",
    "response.content\n",
    "\n",
    "# save response to a text file\n",
    "file_path = \"response.txt\"\n",
    "with open(file_path, \"w\",  encoding=\"utf-8\") as file:\n",
    "    file.write(response.text)\n",
    "    print(f\"Response saved to {file_path}\")"
   ]
  },
  {
   "cell_type": "code",
   "execution_count": 26,
   "id": "2e3e0c1b-0de8-4a53-b90d-367eb15694e2",
   "metadata": {},
   "outputs": [
    {
     "data": {
      "text/plain": [
       "'BBC News - Breaking news, video and the latest top stories from the U.S. and around the worldSkip to contentBritish Broadcasting CorporationHomeNewsSportBusinessInnovationCultureArtsTravelEarthAudioVideoLiveIsrael-Gaza WarWar in UkraineUS & CanadaUKAfricaAsiaAustraliaEuropeLatin AmericaMiddle EastIn PicturesBBC InDepthBBC VerifyHomeNewsIsrael-Gaza WarWar in UkraineUS & CanadaUKUK PoliticsEnglandN. IrelandN. Ireland PoliticsScotlandScotland PoliticsWalesWales PoliticsAfricaAsiaChinaIndiaAustraliaEuropeLatin AmericaMiddle EastIn PicturesBBC InDepthBBC VerifySportBusinessExecutive LoungeTechnology of BusinessFuture of BusinessInnovationTechnologyScience & HealthArtificial IntelligenceAI v the MindCultureFilm & TVMusicArt & DesignStyleBooksEntertainment NewsArtsArts in MotionTravelDestinationsAfricaAntarcticaAsiaAustralia and PacificCaribbean & BermudaCentral AmericaEuropeMiddle EastNorth AmericaSouth AmericaWorld’s TableCulture & ExperiencesAdventuresThe SpeciaListEarthNatural WondersWeather & ScienceClimate SolutionsSustainable BusinessGreen LivingAudioPodcastsRadioAudio FAQsVideoLiveLive NewsLive SportHomeNewsSportBusinessInnovationCultureArtsTravelEarthAudioVideoLiveWeatherNewslettersNewsNewsShip footage shared with BBC captures sound of Titan sub implodingSupport ship video shows the wife of Oceangate CEO Stockton Rush hearing the sound of the implosion.9 hrs agoScience & EnvironmentNetanyahu accuses Starmer, Macron and Carney of siding with HamasThe UK, France and Canada condemned the expanded Israeli military operation in Gaza this week.4 hrs agoWorldMoment Australian politician signs off career with a \\'shoey\\'The MP ended his time in parliament by drinking beer out of his shoe during his farewell speech.4 hrs agoAustraliaHomebound: The Indian film that got a nine-minute ovation at CannesThe film, shot in India\\'s rural North, follows two men from the Muslim and Dalit communities who form a bond. 8 hrs agoCultureIn South Korea, even your cup of Starbucks could be too politicalAll six presidential candidates\\' names are banned in Starbucks stores to \"maintain neutrality\".10 hrs agoAsiaNetanyahu accuses Starmer, Macron and Carney of siding with HamasThe UK, France and Canada condemned the expanded Israeli military operation in Gaza this week.4 hrs agoWorldOn the South African road incorrectly identified as a \\'burial site\\' by TrumpThe US president said video of crosses on the road was evidence of the scale of attacks on white farmers.13 hrs agoWorldTrump administration ends Harvard\\'s ability to enrol international studentsThe move escalates the administration\\'s row with America\\'s oldest university over hiring, admissions and teaching practices.10 hrs agoUS & CanadaMob kills Royal Bengal tiger in India\\'s Assam stateAngry villagers reportedly took the step because the tiger had killed livestock in and posed a threat to their lives. 33 mins agoAsiaMoment Australian politician signs off career with a \\'shoey\\'The MP ended his time in parliament by drinking beer out of his shoe during his farewell speech.4 hrs agoAustraliaSuspect charged with murder of two Israeli embassy workers in Washington DC8 hrs agoMiddle EastLabubu fan fury after dolls pulled from stores1 hr agoBusinessMan in Norway wakes to find huge container ship in garden55 mins agoEuropeThe town divided by Bitcoin8 hrs agoBBC InDepthUS says Sudan used chemical weapons in war as it issues new sanctions5 hrs agoWorldWashington DC shootingWhat we know so farPolice say the victims, a young couple, were shot by a man who shouted \"free, free Palestine\". 7 hrs agoWorldVictims were young couple who were to marryYaron Lischinsky bought engagement ring days before he and girlfriend Sarah Milgrim were killed in Washington, ambassador says.14 hrs agoWorldWatch: Moment suspect is detainedVideo appears to show suspect Elias Rodriguez being taken away by police and shouting \\'free Palestine\\'.1 day agoWorldSuspect was initially mistaken for witnessThe alleged attacker looked \"very distraught\" and was being helped by bystanders before he revealed himself as the suspect.18 hrs agoWorldMore to exploreWhy did the UK government sign the Chagos deal now?A deal to hand Mauritius the Chagos Islands and lease back a key military base has been months in the making.11 hrs agoPoliticsHow a joke about rice cost a Japan cabinet minister his jobSoaring rice prices are a powerful trigger in Japan, where shortages have caused political upsets before.1 day agoAsia\\'Leap together\\' - watch Kermit\\'s advice to graduating studentsThe famous frog gave the commencement speech at the University of Maryland where Muppets creator Jim Henson graduated in 1960.5 hrs agoUS & CanadaFact-checking Trump\\'s Oval Office confrontation with RamaphosaPresident Trump made a series of claims about the killing of white farmers in South Africa, some of which are demonstrably false.12 hrs agoAfricaA look at the key items in Trump\\'s \\'big, beautiful bill\\'The tax and spending bill, which must still pass in the Senate, includes sweeping changes to the tax code, Social Security and more.10 hrs agoUS & CanadaHow a joke about rice cost a Japan cabinet minister his jobSoaring rice prices are a powerful trigger in Japan, where shortages have caused political upsets before.1 day agoAsiaWilliam: Attenborough was \\'inspiration\\' for new showThe Prince of Wales says his new series on rangers follows in the nature broadcaster\\'s footsteps.7 hrs agoClimateInvestigating Israel\\'s strike on Gaza\\'s European HospitalBBC Verify analysed footage, gathered witness testimony and spoke to munitions and legal experts to examine how one of Gaza\\'s last functioning hospitals came under Israeli attack.16 hrs agoBBC Verify\\'Leap together\\' - watch Kermit\\'s advice to graduating studentsThe famous frog gave the commencement speech at the University of Maryland where Muppets creator Jim Henson graduated in 1960.5 hrs agoUS & CanadaMost watched1Moment Australian politician signs off career with a \\'shoey\\'2Cattle washed on to beaches in widespread Australia floods3\\'Leap together\\' - watch Kermit\\'s advice to graduating students4Investigating Israel\\'s strike on Gaza\\'s European Hospital5\\'I did it, I did it for Gaza\\' suspect tells eyewitnessAlso in news\\'I\\'m hardly Bob Dylan\\': Charli XCX wins songwriter of the yearThe star gives a self-deprecating speech about her \"genius\", while U2 pick up a lifetime award.11 hrs agoCultureWeekly quiz: What song won Eurovision?How much attention did you pay to what has been going on in the world over the past seven days?14 hrs agoEuropeKid Cudi testifies at Diddy trial about Molotov cocktail attackThe celebrity detailed a number of incidents, accusing Combs as a third week of the trial came to an end. 9 hrs agoUS & CanadaErdogan denies bid to change Turkey\\'s constitution means he\\'ll run as president againErdogan has led Turkey for 22 years, and been president for the past 11, but cannot run again without changing the rules.12 hrs agoEuropeFour dead, several missing in record Australia floodingHeavy rains moved further south overnight as thousands remain under evacuation orders3 hrs agoAustraliaWeekly quiz: What song won Eurovision?How much attention did you pay to what has been going on in the world over the past seven days?14 hrs agoEuropeUN says 90 lorry loads of aid now in Gaza after three-day delay at crossingThe aid, including flour and baby food, was picked up three days after Israel eased an 11-week-long blockade.10 hrs agoMiddle EastDenmark to raise retirement age to highest in EuropeFrom 2040, Danish people born after 31 December 1970 will be eligible to retire at 70 years old.13 hrs agoEuropeKid Cudi testifies at Diddy trial about Molotov cocktail attackThe celebrity detailed a number of incidents, accusing Combs as a third week of the trial came to an end. 9 hrs agoUS & CanadaMost read1Ship footage shared with BBC captures sound of Titan sub imploding2Denmark to raise retirement age to highest in Europe3The town divided by Bitcoin4Netanyahu accuses Starmer of siding with Hamas5Trump administration ends Harvard\\'s ability to enrol international students6Man in Norway wakes to find huge container ship in garden7Homebound: The Indian film that got a nine-minute ovation at Cannes8On the South African road incorrectly identified as a \\'burial site\\' by Trump9Labubu fan fury after dolls pulled from stores10Roof of historic Ming Dynasty tower collapses in ChinaSportYes, yes, yes: Man Utd sure on Amorim, transfers and the futureA look at what\\'s next for Manchester United after their Europa League final defeat - with focus on transfer plans, finances and the future of their head coach Ruben Amorim.13 hrs agoMan UtdLevy\\'s to-do list after paying Postecoglou £2m Europa bonusBBC Sport analyses Tottenham\\'s to-do list, from their manager\\'s future, to recruitment plans and the bonuses for European glory.12 hrs agoTottenhamIs it time for injury replacements in Test cricket?As Zimbabwe toil against England a bowler light because of injury, BBC Sport asks whether the rules around substitutes in cricket should be changed.13 hrs agoCricketSlot on the season: Title, Trent,  transfers - and no excusesIn a wide-ranging interview with the BBC, Liverpool boss Arne Slot says excuses are \"for teams that don\\'t win the league\".2 hrs agoLiverpoolThunder take control of Western Conference seriesThe Oklahoma City Thunder beat the Minnesota Timberwolves 118-103 to open up a 2-0 lead in the Western Conference finals.1 hr agoBasketballLevy\\'s to-do list after paying Postecoglou £2m Europa bonusBBC Sport analyses Tottenham\\'s to-do list, from their manager\\'s future, to recruitment plans and the bonuses for European glory.12 hrs agoTottenhamGet to know maybe the coolest, calmest F1 driver in historyOscar Piastri tells BBC Sport how his \"calm personality\" helps him be \"aggressive\" on track - and what he has done to become a \"faster driver\" this year.12 hrs agoFormula 1LIVEPremier League final day news conferences, team news and build-upAll the build-up to the final day of the Premier League season with manager news conferences and team news updates.Is it time for injury replacements in Test cricket?As Zimbabwe toil against England a bowler light because of injury, BBC Sport asks whether the rules around substitutes in cricket should be changed.13 hrs agoCricketBritish Broadcasting CorporationHomeNewsSportBusinessInnovationCultureArtsTravelEarthAudioVideoLiveWeatherBBC ShopBritBoxBBC in other languagesFollow BBC on:Terms of UseAbout the BBCPrivacy PolicyCookiesAccessibility HelpContact the BBCAdvertise with usDo not share or sell my infoContact technical supportCopyright 2025 BBC. All rights reserved.\\xa0\\xa0The BBC is not responsible for the content of external sites.\\xa0Read about our approach to external linking.\\xa0'"
      ]
     },
     "execution_count": 26,
     "metadata": {},
     "output_type": "execute_result"
    }
   ],
   "source": [
    "all_data = soup.text.replace('\\n', \"\")\n",
    "all_data"
   ]
  },
  {
   "cell_type": "code",
   "execution_count": 23,
   "id": "e0952e9c-cb73-4612-8f23-2bf15c3206bf",
   "metadata": {},
   "outputs": [
    {
     "data": {
      "text/plain": [
       "'BBC Home - Breaking News, World News, US News, Sports, Business, Innovation, Climate, Culture, Travel, Video & AudioSkip to contentBritish Broadcasting CorporationHomeNewsSportBusinessInnovationCultureArtsTravelEarthAudioVideoLiveHomeNewsIsrael-Gaza WarWar in UkraineUS & CanadaUKUK PoliticsEnglandN. IrelandN. Ireland PoliticsScotlandScotland PoliticsWalesWales PoliticsAfricaAsiaChinaIndiaAustraliaEuropeLatin AmericaMiddle EastIn PicturesBBC InDepthBBC VerifySportBusinessExecutive LoungeTechnology of BusinessFuture of BusinessInnovationTechnologyScience & HealthArtificial IntelligenceAI v the MindCultureFilm & TVMusicArt & DesignStyleBooksEntertainment NewsArtsArts in MotionTravelDestinationsAfricaAntarcticaAsiaAustralia and PacificCaribbean & BermudaCentral AmericaEuropeMiddle EastNorth AmericaSouth AmericaWorld’s TableCulture & ExperiencesAdventuresThe SpeciaListEarthNatural WondersWeather & ScienceClimate SolutionsSustainable BusinessGreen LivingAudioPodcastsRadioAudio FAQsVideoLiveLive NewsLive SportHomeNewsSportBusinessInnovationCultureArtsTravelEarthAudioVideoLiveWeatherNewslettersNetanyahu accuses Starmer of siding with HamasThe UK, France and Canada condemned the expanded Israeli military operation in Gaza this week. hrs agoWorldOn the South African road incorrectly identified as a \\'burial site\\' by TrumpThe US president said video of crosses on the road was evidence of the scale of attacks on white farmers. hrs agoWorldNetanyahu accuses Starmer of siding with HamasThe UK, France and Canada condemned the expanded Israeli military operation in Gaza this week. hrs agoWorldOn the South African road incorrectly identified as a \\'burial site\\' by TrumpThe US president said video of crosses on the road was evidence of the scale of attacks on white farmers. hrs agoWorldShip footage shared with BBC captures sound of Titan sub implodingSupport ship video shows the wife of Oceangate CEO Stockton Rush hearing the sound of the implosion. hrs agoScience & EnvironmentSuspect charged with murder of two Israeli embassy workers in Washington DCThe attack is being investigated as a hate crime and could lead to the death penalty, prosecutors say. hrs agoMiddle EastMan in Norway wakes to find huge container ship in gardenJohan Helberg says he was \"quite astonished\" to look out of his window and see the vessel. mins agoEuropeThe town divided by BitcoinTrump has said he wants to turn the US into the crypto-mining capital of the world - but that has real-world implications for many of his core voters hrs agoBBC InDepthTrump administration ends Harvard\\'s ability to enrol international studentsThe move escalates the administration\\'s row with America\\'s oldest university over hiring, admissions and teaching practices. hrs agoUS & CanadaOnly from the BBCThe Indian film that got a nine-minute ovation at CannesHomebound, shot in India\\'s rural north, follows two men from the Muslim and Dalit communities who form a bond. hrs agoCultureGet to know maybe the coolest, calmest F driver in historyOscar Piastri tells BBC Sport how his \"calm personality\" helps him be \"aggressive\" on track - and what he has done to become a \"faster driver\" this year. hrs agoFormula ListenTwo Israeli embassy staff shot dead in Washington DCIsrael\\'s foreign minister blames antisemitism and anti-Israel incitement minsSaveMore newsMob kills Royal Bengal tiger in India\\'s Assam stateAngry villagers reportedly took the step because the tiger had killed livestock in and posed a threat to their lives.  mins agoAsiaMoment Australian politician signs off career with a \\'shoey\\'The MP ended his time in parliament by drinking beer out of his shoe during his farewell speech. hrs agoAustraliaUS says Sudan used chemical weapons in war as it issues new sanctionsThe state department is imposing new sanctions on the country\\'s government because of the findings. hrs agoWorldDR Congo strips ex-leader of immunity over treason chargesJoseph Kabila faces the prospect of being tried in a military court for allegedly backing M rebels. mins agoAfricaUK deal handing Chagos Islands to Mauritius halted by last-minute legal actionUnder the deal, the UK will lease back the Diego Garcia military base from Mauritius. hrs agoPoliticsMoment Australian politician signs off career with a \\'shoey\\'The MP ended his time in parliament by drinking beer out of his shoe during his farewell speech. hrs agoAustraliaIn South Korea, even your cup of Starbucks could be too politicalAll six presidential candidates\\' names are banned in Starbucks stores to \"maintain neutrality\". hrs agoAsiaLabubu fan fury after dolls pulled from storesThe popular toys have been removed from UK shelves until June, following reports of customers fighting over them. mins agoBusinessUS says Sudan used chemical weapons in war as it issues new sanctionsThe state department is imposing new sanctions on the country\\'s government because of the findings. hrs agoWorldMust watch\\'Leap together\\': Watch Kermit\\'s advice to graduating studentsThe famous frog gave the commencement speech at the University of Maryland where Muppets creator Jim Henson graduated in . hrs agoUS & CanadaGerman troops permanently sent to Lithuania\\'s eastern borderThe German military has not permanently stationed troops on foreign soil since World War Two. hrs agoEuropeBBC sees Gaza aid going through inspection area at Israeli crossingThe BBC\\'s Wyre Davies visits the Kerem Shalom crossing, through which aid for Gaza is currently passing after Israel eased an -week blockade. hrs agoMiddle EastInvestigating Israel\\'s strike on Gaza\\'s European HospitalBBC Verify analysed footage, gathered witness testimony and spoke to munitions and legal experts to examine how one of Gaza\\'s last functioning hospitals came under Israeli attack. hrs agoBBC Verify\\'I did it, I did it for Gaza\\', suspect tells eyewitnessEyewitness Katie Kalisher tells the BBC what happened after coming face to face with the suspect of a shooting that left two dead in Washington DC. hrs agoWorldMoment Jewish Museum shooting suspect is detainedVideo appears to show suspect Elias Rodriguez being taken away by police and shouting \\'free Palestine\\'. day agoWorldBBC at the scene of shooting outside Jewish museumThe BBC\\'s North America correspondent Nomia Iqbal takes us through what we know about the shooting so far. hrs agoWorldDeep inside a Norwegian mountain, Nato allies train for Arctic warEurope editor Katya Adler gains access to a secret HQ and Norwegian warships leading military exercises. day agoEuropeCultureA furious but funny revenge thriller is a favourite at Cannes ★★★★☆After years of imprisonment and travel bans in his native Iran, director Jafar Panahi returns with the taut and twisting It Was Just an Accident.See moreInnovationThe ,-year-old language on the rise in AmericaThe rise of indigenous languages in Latin American immigrant communities in the US is only beginning to be fully understood – and has important implications.See moreUS & Canada newsSum  music agent among those killed in San Diego plane crashFederal officials say all six people aboard the small plane are presumed dead. hrs agoUS & CanadaKid Cudi testifies at Diddy trial about Molotov cocktail attack hrs agoUS & CanadaA look at the key items in Trump\\'s \\'big, beautiful bill\\' hrs agoUS & CanadaUS Congress moves to block California ban on petrol-only cars hrs agoUS & CanadaMore world newsWhat is the Chagos deal between UK and Mauritius?The UK will retain control of Diego Garcia, home to a military base run with the United States. hrs agoAfricaFour dead, several missing in record Australia flooding hrs agoAustraliaUN says  lorry loads of aid now in Gaza after three-day delay at crossing hrs agoMiddle EastFact-checking Trump\\'s Oval Office confrontation with Ramaphosa hrs agoAfricaSportYes, yes, yes: Man Utd sure on Amorim, transfers and the futureA look at what\\'s next for Manchester United after their Europa League final defeat - with focus on transfer plans, finances and the future of their head coach Ruben Amorim. hrs agoMan UtdLevy\\'s to-do list after paying Postecoglou £m Europa bonus hrs agoTottenhamLIVEPremier League final day news conferences, team news and build-upIs it time for injury replacements in Test cricket? hrs agoCricketBusiness US House passes Trump\\'s \\'big, beautiful\\' tax and spending billThe bill\\'s passage is a victory for the White House, which warned that failure would be a \"betrayal\". hrs agoUS & CanadaUS Treasury confirms the end of the penny hrs agoBusinessNike to raise US prices as firms face tariffs uncertainty hrs agoBusinessHow a joke about rice cost a Japan cabinet minister his job day agoAsiaLatest audioAmericastWhy did Trump ambush the South African president?SaveBusiness DailyHow marriage equality changed the wedding industrySaveGlobal News PodcastTrump confronts South African leader with claim of Afrikaners being \\'persecuted\\'SaveUS Business body reacts to Donald Trump\\'s \"beautiful\" billUS Business body reacts to Donald Trump\\'s \"beautiful\" billSaveUS Business body reacts to Donald Trump\\'s \"beautiful\" billUS House passes Trump\\'s mega tax-cut billSaveF: Chequered FlagMonaco Grand Prix PreviewSaveBusiness DailyValencia: Recovering from the floodsSaveGlobal News PodcastThe Trump administration stops Harvard from enrolling foreign studentsSaveTech\\'Give it time\\': ScotRail defends AI announcer IonaA new synthetic voice is being introduced across Scotland\\'s trains to deliver onboard announcements. hrs agoScotlandWhy so many military veterans move into cybersecurity hrs ago\\'World\\'s greatest designer\\' Jony Ive joins OpenAI to \\'reimagine\\' computers hrs agoTechnologyTrump to host investors in his cryptocurrency despite ethical concerns  hrs agoTechnologyScience & healthScientists propose novel way of treating mosquitoes for malariaNormally the insects are targeted with insecticide, but US researchers say anti-malaria drugs absorbed through their legs can stop them spreading disease. day agoHealthEnhanced Games swimmer \\'breaks world record\\' day agoSwimmingCall for NHS to give women with dense breasts extra cancer scans day agoHealthWhat regular saunas do for your health days agoFutureCultureU: \\'We want to make the sound of the future\\'In an exclusive interview, the band talk about their first album since \\'s Songs of Innocence. hrs agoCultureWilliam: David Attenborough was \\'inspiration\\' for new show hrs agoClimate\\'I\\'m hardly Bob Dylan\\': Charli XCX wins songwriter of the year hrs agoCultureKneecap stage surprise gig after member charged hrs agoUKArts Why this iconic  painting is so misunderstood As museums worldwide celebrate the th birthday of JMW Turner, it\\'s time to reappraise his celebrated painting, The Fighting Temeraire. Apr CultureLife-sized animal puppets to stampede across London days agoLondonTitan of Russian ballet Yuri Grigorovich dies at  days agoEuropeJurassic snark: New Zealand dinosaur sculpture fuels debate days agoWatchCannes like you\\'ve never seen it beforeTom Brook gives an insider guide to the film festival and takes us behind the scenes and beyond the red carpet.See moreTravelA South African ice cream shop wants to help heal a continentTapi Tapi makes ice cream with a deep mission: to soothe the collective souls of African people by sharing folk traditions, rituals and cultures through food. hrs agoTravelWhere an IndyCar driver hangs out in Indianapolis days agoTravelShould US travellers rethink their summer holiday? days agoTravelWhat happens to family recipes when home is lost? days agoTravelWorld\\'s TableThe flawless biscuit that took years to masterAcclaimed musician Rhiannon Giddens spent years perfecting a flawless recipe for the iconic Southern food. Now, a new festival reveals the similar journeys of Black music and cuisine. May TravelHow Dubai chocolate sparked a global frenzy May TravelThe artichoke so prized that people sell fakes May TravelThe secrets of feeding the papal conclave May TravelEarthSluggish sloth\\'s secrets of success revealed in new study Scientists say early humans were to blame for many extinctions - but small tree-dwelling sloths survived. hrs agoScience & EnvironmentBusy hurricane season expected as forecasters fear Trump cuts hrs agoClimateHeavy rain disrupts life in several Indian cities  hrs agoAsiaUK sea temperatures soar after exceptionally warm spring  day agoClimateVideoInside the lab where baby sharks are bornWatch how scientists in Japan are rescuing the unborn pups of pregnant sharks killed in fishing nets. days agoNatural wondersWatch the improbable comeback of the white tern days agoNatural wondersCoogler\\'s Warren Buffet quip cracks up Michael B Jordan days agoFilm & TVInside Atlanta\\'s luxury real estate market days agoCulture & ExperiencesDiscover more from the BBCTech DecodedGet timely, trusted tech news from BBC correspondents around the world, every Monday and Friday.Download the BBC appClick here to download the BBC app for Apple and Android devices.US Politics UnspunNo noise. No agenda. Just expert analysis of the issues that matter most from Anthony Zurcher, every Wednesday.Register for a BBC accountDon\\'t have time to read everything right now? Your BBC account lets you save articles and videos for later. Sign up for the Essential ListThe week’s best stories, handpicked by BBC editors, in your inbox every Tuesday and Friday.Sign up to News BriefingNews and expert analysis for every schedule. Get the morning and evening editions of our flagship newsletter in your inbox.British Broadcasting CorporationHomeNewsSportBusinessInnovationCultureArtsTravelEarthAudioVideoLiveWeatherBBC ShopBritBoxBBC in other languagesFollow BBC on:Terms of UseAbout the BBCPrivacy PolicyCookiesAccessibility HelpContact the BBCAdvertise with usDo not share or sell my infoContact technical supportCopyright  BBC. All rights reserved.\\xa0\\xa0The BBC is not responsible for the content of external sites.\\xa0Read about our approach to external linking.\\xa0'"
      ]
     },
     "execution_count": 23,
     "metadata": {},
     "output_type": "execute_result"
    }
   ],
   "source": [
    "# remove all digits\n",
    "remove_digit = re.sub(r'[0-9]+' , '', all_data)\n",
    "remove_digit"
   ]
  },
  {
   "cell_type": "code",
   "execution_count": null,
   "id": "c674d106-a583-489a-949c-60d3907c7924",
   "metadata": {},
   "outputs": [],
   "source": []
  },
  {
   "cell_type": "code",
   "execution_count": 14,
   "id": "622f7357-25b7-4284-a3da-39fbbc0d578b",
   "metadata": {},
   "outputs": [],
   "source": [
    "# Main loop: iterate sources, categories, pages, and articles\n",
    "def scrape_all(max_pages=3, delay=1.0):\n",
    "    print(\"before csv init\")\n",
    "    init_csv()\n",
    "    print(\"csv header initialized!\")\n",
    "    for source in news_sources:\n",
    "        for category in source['sections']:\n",
    "            print(f\"Scraping {source['publisher']} - {category}\")\n",
    "            for page in range(1, max_pages + 1):\n",
    "                try:\n",
    "                    links = get_article_links(source, category, page)\n",
    "                except Exception as e:\n",
    "                    print(f\"Failed to fetch page {page}: {e}\")\n",
    "                    continue\n",
    "\n",
    "                for url in links:\n",
    "                    try:\n",
    "                        record = parse_article(url, source['publisher'], category)\n",
    "                        # Append to CSV\n",
    "                        with open(news_articles, mode=\"a\", newline=\"\", encoding=\"utf-8\") as f:\n",
    "                            writer = csv.DictWriter(f, fieldnames=record.keys())\n",
    "                            writer.writerow(record)\n",
    "                        print(f\"Saved: {record['headline']}\")\n",
    "                        time.sleep(delay)\n",
    "                    except Exception as e:\n",
    "                        print(f\"Error parsing {url}: {e}\")"
   ]
  },
  {
   "cell_type": "code",
   "execution_count": 17,
   "id": "535ab156-f238-4d0c-b108-48f5a6b6a3ba",
   "metadata": {},
   "outputs": [
    {
     "name": "stdout",
     "output_type": "stream",
     "text": [
      "before csv init\n",
      "csv header initialized!\n",
      "Scraping BBC - World\n",
      "Failed to fetch page 2: 404 Client Error: Not Found for url: https://www.bbc.com/news/world/2\n",
      "Failed to fetch page 3: 404 Client Error: Not Found for url: https://www.bbc.com/news/world/3\n",
      "Failed to fetch page 4: 404 Client Error: Not Found for url: https://www.bbc.com/news/world/4\n",
      "Failed to fetch page 5: 404 Client Error: Not Found for url: https://www.bbc.com/news/world/5\n",
      "Scraping BBC - Arts\n",
      "Failed to fetch page 2: 404 Client Error: Not Found for url: https://www.bbc.com/arts/2\n",
      "Failed to fetch page 3: 404 Client Error: Not Found for url: https://www.bbc.com/arts/3\n",
      "Failed to fetch page 4: 404 Client Error: Not Found for url: https://www.bbc.com/arts/4\n",
      "Failed to fetch page 5: 404 Client Error: Not Found for url: https://www.bbc.com/arts/5\n",
      "Scraping CNN - Politics\n",
      "Failed to fetch page 2: 404 Client Error: Not Found for url: https://edition.cnn.com/politics/2\n",
      "Failed to fetch page 3: 404 Client Error: Not Found for url: https://edition.cnn.com/politics/3\n",
      "Failed to fetch page 4: 404 Client Error: Not Found for url: https://edition.cnn.com/politics/4\n",
      "Failed to fetch page 5: 404 Client Error: Not Found for url: https://edition.cnn.com/politics/5\n",
      "Scraping CNN - Sports\n",
      "Failed to fetch page 2: 404 Client Error: Not Found for url: https://edition.cnn.com/sport/2\n",
      "Failed to fetch page 3: 404 Client Error: Not Found for url: https://edition.cnn.com/sport/3\n",
      "Failed to fetch page 4: 404 Client Error: Not Found for url: https://edition.cnn.com/sport/4\n",
      "Failed to fetch page 5: 404 Client Error: Not Found for url: https://edition.cnn.com/sport/5\n",
      "Scraping CNBC - Health and Science\n",
      "Failed to fetch page 1: 403 Client Error: Forbidden for url: https://www.cnbc.com/health-and-science\n",
      "Failed to fetch page 2: 403 Client Error: Forbidden for url: https://www.cnbc.com/health-and-science/2\n",
      "Failed to fetch page 3: 403 Client Error: Forbidden for url: https://www.cnbc.com/health-and-science/3\n",
      "Failed to fetch page 4: 403 Client Error: Forbidden for url: https://www.cnbc.com/health-and-science/4\n",
      "Failed to fetch page 5: 403 Client Error: Forbidden for url: https://www.cnbc.com/health-and-science/5\n",
      "Scraping CNBC - AI\n",
      "Failed to fetch page 1: 403 Client Error: Forbidden for url: https://www.cnbc.com/ai-artificial-intelligence\n",
      "Failed to fetch page 2: 403 Client Error: Forbidden for url: https://www.cnbc.com/ai-artificial-intelligence/2\n",
      "Failed to fetch page 3: 403 Client Error: Forbidden for url: https://www.cnbc.com/ai-artificial-intelligence/3\n",
      "Failed to fetch page 4: 403 Client Error: Forbidden for url: https://www.cnbc.com/ai-artificial-intelligence/4\n",
      "Failed to fetch page 5: 403 Client Error: Forbidden for url: https://www.cnbc.com/ai-artificial-intelligence/5\n"
     ]
    }
   ],
   "source": [
    "# Adjust max_pages to collect more articles per section\n",
    "scrape_all(max_pages=5, delay=0.5)"
   ]
  },
  {
   "cell_type": "code",
   "execution_count": null,
   "id": "4459d03d-736d-48f4-854a-ac3d42455dbb",
   "metadata": {},
   "outputs": [],
   "source": []
  }
 ],
 "metadata": {
  "kernelspec": {
   "display_name": "Python (news-classifier)",
   "language": "python",
   "name": "news-classifier-env"
  },
  "language_info": {
   "codemirror_mode": {
    "name": "ipython",
    "version": 3
   },
   "file_extension": ".py",
   "mimetype": "text/x-python",
   "name": "python",
   "nbconvert_exporter": "python",
   "pygments_lexer": "ipython3",
   "version": "3.13.3"
  }
 },
 "nbformat": 4,
 "nbformat_minor": 5
}
