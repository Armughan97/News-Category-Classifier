{
 "cells": [
  {
   "cell_type": "code",
   "execution_count": null,
   "id": "a829bece-3358-4231-8769-37b777c8afd8",
   "metadata": {},
   "outputs": [],
   "source": []
  }
 ],
 "metadata": {
  "kernelspec": {
   "display_name": "",
   "name": ""
  },
  "language_info": {
   "name": ""
  }
 },
 "nbformat": 4,
 "nbformat_minor": 5
}
