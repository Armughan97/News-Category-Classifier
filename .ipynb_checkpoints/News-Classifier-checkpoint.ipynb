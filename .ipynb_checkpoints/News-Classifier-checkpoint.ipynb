{
 "cells": [
  {
   "cell_type": "markdown",
   "id": "5a1699bb-b265-420d-8f2d-2dbce709be77",
   "metadata": {
    "jp-MarkdownHeadingCollapsed": true
   },
   "source": [
    "# Initialization"
   ]
  },
  {
   "cell_type": "code",
   "execution_count": null,
   "id": "9f9045ae-144b-4d0a-a75a-76cab9af6d5f",
   "metadata": {},
   "outputs": [],
   "source": [
    "import nltk\n",
    "print(nltk.__version__)"
   ]
  },
  {
   "cell_type": "code",
   "execution_count": null,
   "id": "906eea48-01b2-4969-8b4a-44310d04788b",
   "metadata": {},
   "outputs": [],
   "source": [
    "nltk.download('punkt')\n",
    "nltk.download('stopwords')\n",
    "nltk.download('wordnet')"
   ]
  },
  {
   "cell_type": "markdown",
   "id": "8000ab9d-4ced-40c3-8de5-23827762ea5c",
   "metadata": {},
   "source": [
    "# Part 2: Preprocessing"
   ]
  },
  {
   "cell_type": "code",
   "execution_count": 4,
   "id": "2ef89a1f-0563-4c68-aec6-ea71603fb589",
   "metadata": {},
   "outputs": [],
   "source": [
    "import pandas as pd\n",
    "import numpy as np\n",
    "import re\n",
    "import nltk\n",
    "from nltk.corpus import stopwords\n",
    "from nltk.stem import WordNetLemmatizer\n",
    "from sklearn.utils import resample\n",
    "import matplotlib.pyplot as plt\n",
    "import seaborn as sns\n",
    "from wordcloud import WordCloud"
   ]
  },
  {
   "cell_type": "markdown",
   "id": "e1f99826-7b54-4cec-8972-f960efc2a104",
   "metadata": {},
   "source": [
    "### 2.1 Data Cleaning"
   ]
  },
  {
   "cell_type": "code",
   "execution_count": 5,
   "id": "7899e658-65ae-4d43-a43c-e359547ec004",
   "metadata": {},
   "outputs": [
    {
     "name": "stdout",
     "output_type": "stream",
     "text": [
      "Missing values before cleaning:\n",
      "published_date       0\n",
      "headline             6\n",
      "publisher            0\n",
      "article_content    133\n",
      "category             0\n",
      "dtype: int64\n",
      "\n",
      "Data after cleaning:\n",
      "Total articles: 1021\n",
      "<class 'pandas.core.frame.DataFrame'>\n",
      "Index: 1021 entries, 0 to 1158\n",
      "Data columns (total 5 columns):\n",
      " #   Column           Non-Null Count  Dtype         \n",
      "---  ------           --------------  -----         \n",
      " 0   published_date   1021 non-null   datetime64[ns]\n",
      " 1   headline         1020 non-null   object        \n",
      " 2   publisher        1021 non-null   object        \n",
      " 3   article_content  1021 non-null   object        \n",
      " 4   category         1021 non-null   object        \n",
      "dtypes: datetime64[ns](1), object(4)\n",
      "memory usage: 47.9+ KB\n",
      "None\n"
     ]
    }
   ],
   "source": [
    "# Load data\n",
    "df = pd.read_csv('combined_news_articles_data.csv')\n",
    "\n",
    "# Handle missing values\n",
    "print(\"Missing values before cleaning:\")\n",
    "print(df.isnull().sum())\n",
    "\n",
    "# Fill missing dates with mode\n",
    "df['published_date'] = df['published_date'].fillna('Unknown date')\n",
    "\n",
    "# Drop rows with missing content\n",
    "df = df.dropna(subset=['article_content'])\n",
    "\n",
    "# Remove duplicates\n",
    "df = df.drop_duplicates(subset=['headline'])\n",
    "\n",
    "# Convert dates to datetime format (if needed)\n",
    "try:\n",
    "    df['published_date'] = pd.to_datetime(df['published_date'])\n",
    "except:\n",
    "    pass\n",
    "\n",
    "print(\"\\nData after cleaning:\")\n",
    "print(f\"Total articles: {len(df)}\")\n",
    "print(df.info())"
   ]
  },
  {
   "cell_type": "markdown",
   "id": "f1491b78-a7b9-4c7e-b695-57bf9fe691da",
   "metadata": {},
   "source": [
    "### 2.2 Text Preprocessing"
   ]
  },
  {
   "cell_type": "code",
   "execution_count": 6,
   "id": "97f7cab6-d3b1-4de8-8f65-1b6e2cfb4a62",
   "metadata": {},
   "outputs": [
    {
     "name": "stderr",
     "output_type": "stream",
     "text": [
      "[nltk_data] Downloading package stopwords to C:\\Users\\CTN new\n",
      "[nltk_data]     Installation\\AppData\\Roaming\\nltk_data...\n",
      "[nltk_data]   Package stopwords is already up-to-date!\n",
      "[nltk_data] Downloading package wordnet to C:\\Users\\CTN new\n",
      "[nltk_data]     Installation\\AppData\\Roaming\\nltk_data...\n",
      "[nltk_data]   Package wordnet is already up-to-date!\n",
      "[nltk_data] Downloading package punkt to C:\\Users\\CTN new\n",
      "[nltk_data]     Installation\\AppData\\Roaming\\nltk_data...\n",
      "[nltk_data]   Package punkt is already up-to-date!\n",
      "[nltk_data] Downloading package punkt_tab to C:\\Users\\CTN new\n",
      "[nltk_data]     Installation\\AppData\\Roaming\\nltk_data...\n",
      "[nltk_data]   Package punkt_tab is already up-to-date!\n"
     ]
    }
   ],
   "source": [
    "# Download NLTK resources\n",
    "import nltk\n",
    "nltk.download('stopwords')\n",
    "nltk.download('wordnet')\n",
    "nltk.download('punkt')\n",
    "nltk.download('punkt_tab')\n",
    "\n",
    "# Initialize objects\n",
    "stop_words = set(stopwords.words('english'))\n",
    "lemmatizer = WordNetLemmatizer()\n",
    "\n",
    "def preprocess_text(text):\n",
    "    # Lowercase\n",
    "    text = text.lower()\n",
    "    \n",
    "    # Remove special characters and numbers\n",
    "    text = re.sub(r'[^a-zA-Z\\s]', '', text)\n",
    "    \n",
    "    # Tokenize\n",
    "    tokens = nltk.word_tokenize(text)\n",
    "    \n",
    "    # Remove stopwords and lemmatize\n",
    "    processed = [lemmatizer.lemmatize(word) for word in tokens \n",
    "                if word not in stop_words and len(word) > 2]\n",
    "    \n",
    "    return ' '.join(processed)\n",
    "\n",
    "# Apply preprocessing\n",
    "df['clean_content'] = df['article_content'].apply(preprocess_text)"
   ]
  },
  {
   "cell_type": "code",
   "execution_count": 7,
   "id": "1022811f-0af8-47cd-8adf-5b1521550f84",
   "metadata": {},
   "outputs": [
    {
     "name": "stdout",
     "output_type": "stream",
     "text": [
      "\n",
      "Original vs Cleaned Text:\n",
      "Original: US President Donald Trump has hosted top purchasers of the cryptocurrency that bears his name at a gala dinner, in an event that protesters and his Democrat opponents branded as \"corrupt\".$TRUMP was l\n",
      "Cleaned: president donald trump hosted top purchaser cryptocurrency bear name gala dinner event protester democrat opponent branded corrupttrump launched shortly inauguration january initially rocketing value \n"
     ]
    }
   ],
   "source": [
    "# Show example\n",
    "print(\"\\nOriginal vs Cleaned Text:\")\n",
    "print(\"Original:\", df['article_content'].iloc[1][:200])\n",
    "print(\"Cleaned:\", df['clean_content'].iloc[1][:200])"
   ]
  },
  {
   "cell_type": "markdown",
   "id": "0eaf0b12-b8f1-4073-a2cd-6c60fb4a4432",
   "metadata": {},
   "source": [
    "### 2.3 Handle Class Imbalance"
   ]
  },
  {
   "cell_type": "code",
   "execution_count": 8,
   "id": "c1f4ddac-ded2-4aae-b3c5-827c424772a0",
   "metadata": {},
   "outputs": [
    {
     "data": {
      "image/png": "[encoded data removed]",
      "text/plain": [
       "<Figure size 1000x600 with 1 Axes>"
      ]
     },
     "metadata": {},
     "output_type": "display_data"
    },
    {
     "ename": "ValueError",
     "evalue": "Expected n_neighbors <= n_samples_fit, but n_neighbors = 6, n_samples_fit = 1, n_samples = 1",
     "output_type": "error",
     "traceback": [
      "\u001b[31m---------------------------------------------------------------------------\u001b[39m",
      "\u001b[31mValueError\u001b[39m                                Traceback (most recent call last)",
      "\u001b[36mCell\u001b[39m\u001b[36m \u001b[39m\u001b[32mIn[8]\u001b[39m\u001b[32m, line 22\u001b[39m\n\u001b[32m     20\u001b[39m     \u001b[38;5;66;03m# Resample\u001b[39;00m\n\u001b[32m     21\u001b[39m     smote = SMOTE()\n\u001b[32m---> \u001b[39m\u001b[32m22\u001b[39m     X_res, y_res = \u001b[43msmote\u001b[49m\u001b[43m.\u001b[49m\u001b[43mfit_resample\u001b[49m\u001b[43m(\u001b[49m\u001b[43mX\u001b[49m\u001b[43m,\u001b[49m\u001b[43m \u001b[49m\u001b[43my\u001b[49m\u001b[43m)\u001b[49m\n\u001b[32m     24\u001b[39m     \u001b[38;5;28mprint\u001b[39m(\u001b[33m\"\u001b[39m\u001b[38;5;130;01m\\n\u001b[39;00m\u001b[33mResampled class distribution:\u001b[39m\u001b[33m\"\u001b[39m, np.unique(y_res, return_counts=\u001b[38;5;28;01mTrue\u001b[39;00m))\n\u001b[32m     25\u001b[39m \u001b[38;5;28;01melse\u001b[39;00m:\n",
      "\u001b[36mFile \u001b[39m\u001b[32mD:\\News-Category-Classifier\\.venv\\Lib\\site-packages\\imblearn\\base.py:202\u001b[39m, in \u001b[36mBaseSampler.fit_resample\u001b[39m\u001b[34m(self, X, y, **params)\u001b[39m\n\u001b[32m    181\u001b[39m \u001b[38;5;28;01mdef\u001b[39;00m\u001b[38;5;250m \u001b[39m\u001b[34mfit_resample\u001b[39m(\u001b[38;5;28mself\u001b[39m, X, y, **params):\n\u001b[32m    182\u001b[39m \u001b[38;5;250m    \u001b[39m\u001b[33;03m\"\"\"Resample the dataset.\u001b[39;00m\n\u001b[32m    183\u001b[39m \n\u001b[32m    184\u001b[39m \u001b[33;03m    Parameters\u001b[39;00m\n\u001b[32m   (...)\u001b[39m\u001b[32m    200\u001b[39m \u001b[33;03m        The corresponding label of `X_resampled`.\u001b[39;00m\n\u001b[32m    201\u001b[39m \u001b[33;03m    \"\"\"\u001b[39;00m\n\u001b[32m--> \u001b[39m\u001b[32m202\u001b[39m     \u001b[38;5;28;01mreturn\u001b[39;00m \u001b[38;5;28;43msuper\u001b[39;49m\u001b[43m(\u001b[49m\u001b[43m)\u001b[49m\u001b[43m.\u001b[49m\u001b[43mfit_resample\u001b[49m\u001b[43m(\u001b[49m\u001b[43mX\u001b[49m\u001b[43m,\u001b[49m\u001b[43m \u001b[49m\u001b[43my\u001b[49m\u001b[43m,\u001b[49m\u001b[43m \u001b[49m\u001b[43m*\u001b[49m\u001b[43m*\u001b[49m\u001b[43mparams\u001b[49m\u001b[43m)\u001b[49m\n",
      "\u001b[36mFile \u001b[39m\u001b[32mD:\\News-Category-Classifier\\.venv\\Lib\\site-packages\\sklearn\\base.py:1389\u001b[39m, in \u001b[36m_fit_context.<locals>.decorator.<locals>.wrapper\u001b[39m\u001b[34m(estimator, *args, **kwargs)\u001b[39m\n\u001b[32m   1382\u001b[39m     estimator._validate_params()\n\u001b[32m   1384\u001b[39m \u001b[38;5;28;01mwith\u001b[39;00m config_context(\n\u001b[32m   1385\u001b[39m     skip_parameter_validation=(\n\u001b[32m   1386\u001b[39m         prefer_skip_nested_validation \u001b[38;5;129;01mor\u001b[39;00m global_skip_validation\n\u001b[32m   1387\u001b[39m     )\n\u001b[32m   1388\u001b[39m ):\n\u001b[32m-> \u001b[39m\u001b[32m1389\u001b[39m     \u001b[38;5;28;01mreturn\u001b[39;00m \u001b[43mfit_method\u001b[49m\u001b[43m(\u001b[49m\u001b[43mestimator\u001b[49m\u001b[43m,\u001b[49m\u001b[43m \u001b[49m\u001b[43m*\u001b[49m\u001b[43margs\u001b[49m\u001b[43m,\u001b[49m\u001b[43m \u001b[49m\u001b[43m*\u001b[49m\u001b[43m*\u001b[49m\u001b[43mkwargs\u001b[49m\u001b[43m)\u001b[49m\n",
      "\u001b[36mFile \u001b[39m\u001b[32mD:\\News-Category-Classifier\\.venv\\Lib\\site-packages\\imblearn\\base.py:105\u001b[39m, in \u001b[36mSamplerMixin.fit_resample\u001b[39m\u001b[34m(self, X, y, **params)\u001b[39m\n\u001b[32m     99\u001b[39m X, y, binarize_y = \u001b[38;5;28mself\u001b[39m._check_X_y(X, y)\n\u001b[32m    101\u001b[39m \u001b[38;5;28mself\u001b[39m.sampling_strategy_ = check_sampling_strategy(\n\u001b[32m    102\u001b[39m     \u001b[38;5;28mself\u001b[39m.sampling_strategy, y, \u001b[38;5;28mself\u001b[39m._sampling_type\n\u001b[32m    103\u001b[39m )\n\u001b[32m--> \u001b[39m\u001b[32m105\u001b[39m output = \u001b[38;5;28;43mself\u001b[39;49m\u001b[43m.\u001b[49m\u001b[43m_fit_resample\u001b[49m\u001b[43m(\u001b[49m\u001b[43mX\u001b[49m\u001b[43m,\u001b[49m\u001b[43m \u001b[49m\u001b[43my\u001b[49m\u001b[43m,\u001b[49m\u001b[43m \u001b[49m\u001b[43m*\u001b[49m\u001b[43m*\u001b[49m\u001b[43mparams\u001b[49m\u001b[43m)\u001b[49m\n\u001b[32m    107\u001b[39m y_ = (\n\u001b[32m    108\u001b[39m     label_binarize(output[\u001b[32m1\u001b[39m], classes=np.unique(y)) \u001b[38;5;28;01mif\u001b[39;00m binarize_y \u001b[38;5;28;01melse\u001b[39;00m output[\u001b[32m1\u001b[39m]\n\u001b[32m    109\u001b[39m )\n\u001b[32m    111\u001b[39m X_, y_ = arrays_transformer.transform(output[\u001b[32m0\u001b[39m], y_)\n",
      "\u001b[36mFile \u001b[39m\u001b[32mD:\\News-Category-Classifier\\.venv\\Lib\\site-packages\\imblearn\\over_sampling\\_smote\\base.py:359\u001b[39m, in \u001b[36mSMOTE._fit_resample\u001b[39m\u001b[34m(self, X, y)\u001b[39m\n\u001b[32m    356\u001b[39m X_class = _safe_indexing(X, target_class_indices)\n\u001b[32m    358\u001b[39m \u001b[38;5;28mself\u001b[39m.nn_k_.fit(X_class)\n\u001b[32m--> \u001b[39m\u001b[32m359\u001b[39m nns = \u001b[38;5;28;43mself\u001b[39;49m\u001b[43m.\u001b[49m\u001b[43mnn_k_\u001b[49m\u001b[43m.\u001b[49m\u001b[43mkneighbors\u001b[49m\u001b[43m(\u001b[49m\u001b[43mX_class\u001b[49m\u001b[43m,\u001b[49m\u001b[43m \u001b[49m\u001b[43mreturn_distance\u001b[49m\u001b[43m=\u001b[49m\u001b[38;5;28;43;01mFalse\u001b[39;49;00m\u001b[43m)\u001b[49m[:, \u001b[32m1\u001b[39m:]\n\u001b[32m    360\u001b[39m X_new, y_new = \u001b[38;5;28mself\u001b[39m._make_samples(\n\u001b[32m    361\u001b[39m     X_class, y.dtype, class_sample, X_class, nns, n_samples, \u001b[32m1.0\u001b[39m\n\u001b[32m    362\u001b[39m )\n\u001b[32m    363\u001b[39m X_resampled.append(X_new)\n",
      "\u001b[36mFile \u001b[39m\u001b[32mD:\\News-Category-Classifier\\.venv\\Lib\\site-packages\\sklearn\\neighbors\\_base.py:854\u001b[39m, in \u001b[36mKNeighborsMixin.kneighbors\u001b[39m\u001b[34m(self, X, n_neighbors, return_distance)\u001b[39m\n\u001b[32m    852\u001b[39m     \u001b[38;5;28;01melse\u001b[39;00m:\n\u001b[32m    853\u001b[39m         inequality_str = \u001b[33m\"\u001b[39m\u001b[33mn_neighbors <= n_samples_fit\u001b[39m\u001b[33m\"\u001b[39m\n\u001b[32m--> \u001b[39m\u001b[32m854\u001b[39m     \u001b[38;5;28;01mraise\u001b[39;00m \u001b[38;5;167;01mValueError\u001b[39;00m(\n\u001b[32m    855\u001b[39m         \u001b[33mf\u001b[39m\u001b[33m\"\u001b[39m\u001b[33mExpected \u001b[39m\u001b[38;5;132;01m{\u001b[39;00minequality_str\u001b[38;5;132;01m}\u001b[39;00m\u001b[33m, but \u001b[39m\u001b[33m\"\u001b[39m\n\u001b[32m    856\u001b[39m         \u001b[33mf\u001b[39m\u001b[33m\"\u001b[39m\u001b[33mn_neighbors = \u001b[39m\u001b[38;5;132;01m{\u001b[39;00mn_neighbors\u001b[38;5;132;01m}\u001b[39;00m\u001b[33m, n_samples_fit = \u001b[39m\u001b[38;5;132;01m{\u001b[39;00mn_samples_fit\u001b[38;5;132;01m}\u001b[39;00m\u001b[33m, \u001b[39m\u001b[33m\"\u001b[39m\n\u001b[32m    857\u001b[39m         \u001b[33mf\u001b[39m\u001b[33m\"\u001b[39m\u001b[33mn_samples = \u001b[39m\u001b[38;5;132;01m{\u001b[39;00mX.shape[\u001b[32m0\u001b[39m]\u001b[38;5;132;01m}\u001b[39;00m\u001b[33m\"\u001b[39m  \u001b[38;5;66;03m# include n_samples for common tests\u001b[39;00m\n\u001b[32m    858\u001b[39m     )\n\u001b[32m    860\u001b[39m n_jobs = effective_n_jobs(\u001b[38;5;28mself\u001b[39m.n_jobs)\n\u001b[32m    861\u001b[39m chunked_results = \u001b[38;5;28;01mNone\u001b[39;00m\n",
      "\u001b[31mValueError\u001b[39m: Expected n_neighbors <= n_samples_fit, but n_neighbors = 6, n_samples_fit = 1, n_samples = 1"
     ]
    }
   ],
   "source": [
    "# Check class distribution\n",
    "category_dist = df['category'].value_counts()\n",
    "plt.figure(figsize=(10,6))\n",
    "category_dist.plot(kind='bar')\n",
    "plt.title('Category Distribution')\n",
    "plt.xlabel('Categories')\n",
    "plt.ylabel('Count')\n",
    "plt.show()\n",
    "\n",
    "# Handle imbalance using SMOTE (example)\n",
    "if len(category_dist) > 1:\n",
    "    from imblearn.over_sampling import SMOTE\n",
    "    from sklearn.feature_extraction.text import TfidfVectorizer\n",
    "\n",
    "    # Vectorize text\n",
    "    tfidf = TfidfVectorizer(max_features=5000)\n",
    "    X = tfidf.fit_transform(df['clean_content'])\n",
    "    y = df['category']\n",
    "\n",
    "    # Resample\n",
    "    smote = SMOTE()\n",
    "    X_res, y_res = smote.fit_resample(X, y)\n",
    "    \n",
    "    print(\"\\nResampled class distribution:\", np.unique(y_res, return_counts=True))\n",
    "else:\n",
    "    print(\"Insufficient classes for balancing\")"
   ]
  },
  {
   "cell_type": "markdown",
   "id": "ad70f610-cee9-4a28-9bce-249c155a6f14",
   "metadata": {},
   "source": [
    "### 2.4 Exploratory Data Analysis (EDA)"
   ]
  },
  {
   "cell_type": "code",
   "execution_count": null,
   "id": "0b4250ea-c58f-4c09-88d5-dd1bfdc0c64a",
   "metadata": {},
   "outputs": [],
   "source": []
  }
 ],
 "metadata": {
  "kernelspec": {
   "display_name": "Python (news-classifier)",
   "language": "python",
   "name": "news-classifier-env"
  },
  "language_info": {
   "codemirror_mode": {
    "name": "ipython",
    "version": 3
   },
   "file_extension": ".py",
   "mimetype": "text/x-python",
   "name": "python",
   "nbconvert_exporter": "python",
   "pygments_lexer": "ipython3",
   "version": "3.13.3"
  }
 },
 "nbformat": 4,
 "nbformat_minor": 5
}
